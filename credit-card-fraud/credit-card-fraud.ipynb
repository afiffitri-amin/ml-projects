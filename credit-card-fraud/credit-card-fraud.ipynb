{
 "cells": [
  {
   "cell_type": "markdown",
   "metadata": {},
   "source": [
    "# Credit Card Fraud Prediction using Neural Network"
   ]
  },
  {
   "cell_type": "markdown",
   "metadata": {},
   "source": [
    "It is crucial for credit card providers to accurately recognize fraudulent credit card transactions so that customers are not charged for items that they did not purchase.\n",
    "\n",
    "This project aims to build a neural network for predicting credit card fraudulent transactions using a dataset with given features.\n",
    "\n",
    "The dataset can be found [here](https://www.kaggle.com/mlg-ulb/creditcardfraud).\n",
    "\n",
    "This dataset holds information about transactions made by credit cards in September 2013 by European cardholders that occurred in two days, where **492** frauds  are recorded out of 284,807 transactions."
   ]
  },
  {
   "cell_type": "markdown",
   "metadata": {},
   "source": [
    "### 1. Data preprocessing"
   ]
  },
  {
   "cell_type": "code",
   "execution_count": 1,
   "metadata": {},
   "outputs": [],
   "source": [
    "import sys\n",
    "import numpy as np\n",
    "import pandas as pd\n",
    "import matplotlib.pyplot as plt\n",
    "import warnings\n",
    "\n",
    "warnings.filterwarnings('ignore')"
   ]
  },
  {
   "cell_type": "code",
   "execution_count": 2,
   "metadata": {},
   "outputs": [],
   "source": [
    "data = pd.read_csv(\"creditcard.csv\")"
   ]
  },
  {
   "cell_type": "code",
   "execution_count": 3,
   "metadata": {},
   "outputs": [
    {
     "data": {
      "text/html": [
       "<div>\n",
       "<style scoped>\n",
       "    .dataframe tbody tr th:only-of-type {\n",
       "        vertical-align: middle;\n",
       "    }\n",
       "\n",
       "    .dataframe tbody tr th {\n",
       "        vertical-align: top;\n",
       "    }\n",
       "\n",
       "    .dataframe thead th {\n",
       "        text-align: right;\n",
       "    }\n",
       "</style>\n",
       "<table border=\"1\" class=\"dataframe\">\n",
       "  <thead>\n",
       "    <tr style=\"text-align: right;\">\n",
       "      <th></th>\n",
       "      <th>Time</th>\n",
       "      <th>V1</th>\n",
       "      <th>V2</th>\n",
       "      <th>V3</th>\n",
       "      <th>V4</th>\n",
       "      <th>V5</th>\n",
       "      <th>V6</th>\n",
       "      <th>V7</th>\n",
       "      <th>V8</th>\n",
       "      <th>V9</th>\n",
       "      <th>V10</th>\n",
       "      <th>V11</th>\n",
       "      <th>V12</th>\n",
       "      <th>V13</th>\n",
       "      <th>V14</th>\n",
       "      <th>...</th>\n",
       "      <th>V16</th>\n",
       "      <th>V17</th>\n",
       "      <th>V18</th>\n",
       "      <th>V19</th>\n",
       "      <th>V20</th>\n",
       "      <th>V21</th>\n",
       "      <th>V22</th>\n",
       "      <th>V23</th>\n",
       "      <th>V24</th>\n",
       "      <th>V25</th>\n",
       "      <th>V26</th>\n",
       "      <th>V27</th>\n",
       "      <th>V28</th>\n",
       "      <th>Amount</th>\n",
       "      <th>Class</th>\n",
       "    </tr>\n",
       "  </thead>\n",
       "  <tbody>\n",
       "    <tr>\n",
       "      <th>0</th>\n",
       "      <td>0.0</td>\n",
       "      <td>-1.359807</td>\n",
       "      <td>-0.072781</td>\n",
       "      <td>2.536347</td>\n",
       "      <td>1.378155</td>\n",
       "      <td>-0.338321</td>\n",
       "      <td>0.462388</td>\n",
       "      <td>0.239599</td>\n",
       "      <td>0.098698</td>\n",
       "      <td>0.363787</td>\n",
       "      <td>0.090794</td>\n",
       "      <td>-0.551600</td>\n",
       "      <td>-0.617801</td>\n",
       "      <td>-0.991390</td>\n",
       "      <td>-0.311169</td>\n",
       "      <td>...</td>\n",
       "      <td>-0.470401</td>\n",
       "      <td>0.207971</td>\n",
       "      <td>0.025791</td>\n",
       "      <td>0.403993</td>\n",
       "      <td>0.251412</td>\n",
       "      <td>-0.018307</td>\n",
       "      <td>0.277838</td>\n",
       "      <td>-0.110474</td>\n",
       "      <td>0.066928</td>\n",
       "      <td>0.128539</td>\n",
       "      <td>-0.189115</td>\n",
       "      <td>0.133558</td>\n",
       "      <td>-0.021053</td>\n",
       "      <td>149.62</td>\n",
       "      <td>0</td>\n",
       "    </tr>\n",
       "    <tr>\n",
       "      <th>1</th>\n",
       "      <td>0.0</td>\n",
       "      <td>1.191857</td>\n",
       "      <td>0.266151</td>\n",
       "      <td>0.166480</td>\n",
       "      <td>0.448154</td>\n",
       "      <td>0.060018</td>\n",
       "      <td>-0.082361</td>\n",
       "      <td>-0.078803</td>\n",
       "      <td>0.085102</td>\n",
       "      <td>-0.255425</td>\n",
       "      <td>-0.166974</td>\n",
       "      <td>1.612727</td>\n",
       "      <td>1.065235</td>\n",
       "      <td>0.489095</td>\n",
       "      <td>-0.143772</td>\n",
       "      <td>...</td>\n",
       "      <td>0.463917</td>\n",
       "      <td>-0.114805</td>\n",
       "      <td>-0.183361</td>\n",
       "      <td>-0.145783</td>\n",
       "      <td>-0.069083</td>\n",
       "      <td>-0.225775</td>\n",
       "      <td>-0.638672</td>\n",
       "      <td>0.101288</td>\n",
       "      <td>-0.339846</td>\n",
       "      <td>0.167170</td>\n",
       "      <td>0.125895</td>\n",
       "      <td>-0.008983</td>\n",
       "      <td>0.014724</td>\n",
       "      <td>2.69</td>\n",
       "      <td>0</td>\n",
       "    </tr>\n",
       "    <tr>\n",
       "      <th>2</th>\n",
       "      <td>1.0</td>\n",
       "      <td>-1.358354</td>\n",
       "      <td>-1.340163</td>\n",
       "      <td>1.773209</td>\n",
       "      <td>0.379780</td>\n",
       "      <td>-0.503198</td>\n",
       "      <td>1.800499</td>\n",
       "      <td>0.791461</td>\n",
       "      <td>0.247676</td>\n",
       "      <td>-1.514654</td>\n",
       "      <td>0.207643</td>\n",
       "      <td>0.624501</td>\n",
       "      <td>0.066084</td>\n",
       "      <td>0.717293</td>\n",
       "      <td>-0.165946</td>\n",
       "      <td>...</td>\n",
       "      <td>-2.890083</td>\n",
       "      <td>1.109969</td>\n",
       "      <td>-0.121359</td>\n",
       "      <td>-2.261857</td>\n",
       "      <td>0.524980</td>\n",
       "      <td>0.247998</td>\n",
       "      <td>0.771679</td>\n",
       "      <td>0.909412</td>\n",
       "      <td>-0.689281</td>\n",
       "      <td>-0.327642</td>\n",
       "      <td>-0.139097</td>\n",
       "      <td>-0.055353</td>\n",
       "      <td>-0.059752</td>\n",
       "      <td>378.66</td>\n",
       "      <td>0</td>\n",
       "    </tr>\n",
       "    <tr>\n",
       "      <th>3</th>\n",
       "      <td>1.0</td>\n",
       "      <td>-0.966272</td>\n",
       "      <td>-0.185226</td>\n",
       "      <td>1.792993</td>\n",
       "      <td>-0.863291</td>\n",
       "      <td>-0.010309</td>\n",
       "      <td>1.247203</td>\n",
       "      <td>0.237609</td>\n",
       "      <td>0.377436</td>\n",
       "      <td>-1.387024</td>\n",
       "      <td>-0.054952</td>\n",
       "      <td>-0.226487</td>\n",
       "      <td>0.178228</td>\n",
       "      <td>0.507757</td>\n",
       "      <td>-0.287924</td>\n",
       "      <td>...</td>\n",
       "      <td>-1.059647</td>\n",
       "      <td>-0.684093</td>\n",
       "      <td>1.965775</td>\n",
       "      <td>-1.232622</td>\n",
       "      <td>-0.208038</td>\n",
       "      <td>-0.108300</td>\n",
       "      <td>0.005274</td>\n",
       "      <td>-0.190321</td>\n",
       "      <td>-1.175575</td>\n",
       "      <td>0.647376</td>\n",
       "      <td>-0.221929</td>\n",
       "      <td>0.062723</td>\n",
       "      <td>0.061458</td>\n",
       "      <td>123.50</td>\n",
       "      <td>0</td>\n",
       "    </tr>\n",
       "    <tr>\n",
       "      <th>4</th>\n",
       "      <td>2.0</td>\n",
       "      <td>-1.158233</td>\n",
       "      <td>0.877737</td>\n",
       "      <td>1.548718</td>\n",
       "      <td>0.403034</td>\n",
       "      <td>-0.407193</td>\n",
       "      <td>0.095921</td>\n",
       "      <td>0.592941</td>\n",
       "      <td>-0.270533</td>\n",
       "      <td>0.817739</td>\n",
       "      <td>0.753074</td>\n",
       "      <td>-0.822843</td>\n",
       "      <td>0.538196</td>\n",
       "      <td>1.345852</td>\n",
       "      <td>-1.119670</td>\n",
       "      <td>...</td>\n",
       "      <td>-0.451449</td>\n",
       "      <td>-0.237033</td>\n",
       "      <td>-0.038195</td>\n",
       "      <td>0.803487</td>\n",
       "      <td>0.408542</td>\n",
       "      <td>-0.009431</td>\n",
       "      <td>0.798278</td>\n",
       "      <td>-0.137458</td>\n",
       "      <td>0.141267</td>\n",
       "      <td>-0.206010</td>\n",
       "      <td>0.502292</td>\n",
       "      <td>0.219422</td>\n",
       "      <td>0.215153</td>\n",
       "      <td>69.99</td>\n",
       "      <td>0</td>\n",
       "    </tr>\n",
       "  </tbody>\n",
       "</table>\n",
       "<p>5 rows × 31 columns</p>\n",
       "</div>"
      ],
      "text/plain": [
       "   Time        V1        V2        V3        V4        V5        V6        V7  \\\n",
       "0   0.0 -1.359807 -0.072781  2.536347  1.378155 -0.338321  0.462388  0.239599   \n",
       "1   0.0  1.191857  0.266151  0.166480  0.448154  0.060018 -0.082361 -0.078803   \n",
       "2   1.0 -1.358354 -1.340163  1.773209  0.379780 -0.503198  1.800499  0.791461   \n",
       "3   1.0 -0.966272 -0.185226  1.792993 -0.863291 -0.010309  1.247203  0.237609   \n",
       "4   2.0 -1.158233  0.877737  1.548718  0.403034 -0.407193  0.095921  0.592941   \n",
       "\n",
       "         V8        V9       V10       V11       V12       V13       V14  ...  \\\n",
       "0  0.098698  0.363787  0.090794 -0.551600 -0.617801 -0.991390 -0.311169  ...   \n",
       "1  0.085102 -0.255425 -0.166974  1.612727  1.065235  0.489095 -0.143772  ...   \n",
       "2  0.247676 -1.514654  0.207643  0.624501  0.066084  0.717293 -0.165946  ...   \n",
       "3  0.377436 -1.387024 -0.054952 -0.226487  0.178228  0.507757 -0.287924  ...   \n",
       "4 -0.270533  0.817739  0.753074 -0.822843  0.538196  1.345852 -1.119670  ...   \n",
       "\n",
       "        V16       V17       V18       V19       V20       V21       V22  \\\n",
       "0 -0.470401  0.207971  0.025791  0.403993  0.251412 -0.018307  0.277838   \n",
       "1  0.463917 -0.114805 -0.183361 -0.145783 -0.069083 -0.225775 -0.638672   \n",
       "2 -2.890083  1.109969 -0.121359 -2.261857  0.524980  0.247998  0.771679   \n",
       "3 -1.059647 -0.684093  1.965775 -1.232622 -0.208038 -0.108300  0.005274   \n",
       "4 -0.451449 -0.237033 -0.038195  0.803487  0.408542 -0.009431  0.798278   \n",
       "\n",
       "        V23       V24       V25       V26       V27       V28  Amount  Class  \n",
       "0 -0.110474  0.066928  0.128539 -0.189115  0.133558 -0.021053  149.62      0  \n",
       "1  0.101288 -0.339846  0.167170  0.125895 -0.008983  0.014724    2.69      0  \n",
       "2  0.909412 -0.689281 -0.327642 -0.139097 -0.055353 -0.059752  378.66      0  \n",
       "3 -0.190321 -1.175575  0.647376 -0.221929  0.062723  0.061458  123.50      0  \n",
       "4 -0.137458  0.141267 -0.206010  0.502292  0.219422  0.215153   69.99      0  \n",
       "\n",
       "[5 rows x 31 columns]"
      ]
     },
     "execution_count": 3,
     "metadata": {},
     "output_type": "execute_result"
    }
   ],
   "source": [
    "data.head()"
   ]
  },
  {
   "cell_type": "code",
   "execution_count": 4,
   "metadata": {},
   "outputs": [
    {
     "data": {
      "text/plain": [
       "Time      False\n",
       "V1        False\n",
       "V2        False\n",
       "V3        False\n",
       "V4        False\n",
       "V5        False\n",
       "V6        False\n",
       "V7        False\n",
       "V8        False\n",
       "V9        False\n",
       "          ...  \n",
       "V21       False\n",
       "V22       False\n",
       "V23       False\n",
       "V24       False\n",
       "V25       False\n",
       "V26       False\n",
       "V27       False\n",
       "V28       False\n",
       "Amount    False\n",
       "Class     False\n",
       "Length: 31, dtype: bool"
      ]
     },
     "execution_count": 4,
     "metadata": {},
     "output_type": "execute_result"
    }
   ],
   "source": [
    "data.isnull().any()"
   ]
  },
  {
   "cell_type": "markdown",
   "metadata": {},
   "source": [
    "### 2. Data Visualization"
   ]
  },
  {
   "cell_type": "code",
   "execution_count": 5,
   "metadata": {},
   "outputs": [
    {
     "data": {
      "image/png": "[encoded data removed]",
      "text/plain": [
       "<Figure size 432x288 with 1 Axes>"
      ]
     },
     "metadata": {
      "needs_background": "light"
     },
     "output_type": "display_data"
    }
   ],
   "source": [
    "data.Class.hist(grid=False);"
   ]
  },
  {
   "cell_type": "code",
   "execution_count": 6,
   "metadata": {},
   "outputs": [
    {
     "data": {
      "text/plain": [
       "Class\n",
       "0    284315\n",
       "1       492\n",
       "dtype: int64"
      ]
     },
     "execution_count": 6,
     "metadata": {},
     "output_type": "execute_result"
    }
   ],
   "source": [
    "Class = data.groupby('Class').size()\n",
    "Class"
   ]
  },
  {
   "cell_type": "markdown",
   "metadata": {},
   "source": [
    "As observed in the histogram, this dataset is highly imbalanced, where fraudulent transactions is only 0.17% out of all recorded transactions.\n",
    "\n",
    "This can negatively affect our model, where it might perform better at predicting the outcome of valid transactions (the majority occurence), but will not be able to predict fraud transactions as accurately."
   ]
  },
  {
   "cell_type": "code",
   "execution_count": 7,
   "metadata": {},
   "outputs": [
    {
     "data": {
      "image/png": "[encoded data removed]",
      "text/plain": [
       "<Figure size 1440x720 with 1 Axes>"
      ]
     },
     "metadata": {
      "needs_background": "light"
     },
     "output_type": "display_data"
    }
   ],
   "source": [
    "data.corrwith(data.Class).plot.bar(\n",
    "        figsize=(20, 10), title=\"Correlation with class\",\n",
    "        fontsize=15, rot=45, grid=True);"
   ]
  },
  {
   "cell_type": "markdown",
   "metadata": {},
   "source": [
    "### 3. Data preparation"
   ]
  },
  {
   "cell_type": "markdown",
   "metadata": {},
   "source": [
    "We will perform scaling on the `Amount` of transaction, and we will remove the `Time` feature from the dataset.\n",
    "\n",
    "`RobustScaler()` is used for scaling."
   ]
  },
  {
   "cell_type": "code",
   "execution_count": 8,
   "metadata": {},
   "outputs": [],
   "source": [
    "from sklearn.preprocessing import RobustScaler\n",
    "\n",
    "robust_scale = RobustScaler()\n",
    "\n",
    "data['scaled_amount'] = robust_scale.fit_transform(data['Amount'].values.reshape(-1,1))\n",
    "data.drop(['Time','Amount'], axis=1, inplace=True)"
   ]
  },
  {
   "cell_type": "code",
   "execution_count": 9,
   "metadata": {},
   "outputs": [],
   "source": [
    "X = data.drop(columns='Class')\n",
    "y = data['Class']"
   ]
  },
  {
   "cell_type": "markdown",
   "metadata": {},
   "source": [
    "The dataset is split with 70:30 ratio between train and test set."
   ]
  },
  {
   "cell_type": "code",
   "execution_count": 10,
   "metadata": {},
   "outputs": [],
   "source": [
    "from sklearn.model_selection import train_test_split\n",
    "X_train, X_test, y_train, y_test = train_test_split(X, y, test_size=0.3)"
   ]
  },
  {
   "cell_type": "code",
   "execution_count": 11,
   "metadata": {},
   "outputs": [],
   "source": [
    "X_train, X_test = np.array(X_train), np.array(X_test)\n",
    "y_train, y_test = np.array(y_train), np.array(y_test)"
   ]
  },
  {
   "cell_type": "markdown",
   "metadata": {},
   "source": [
    "### 4. Evaluation"
   ]
  },
  {
   "cell_type": "markdown",
   "metadata": {},
   "source": [
    "For the evaluation of this model, we will be using the **confusion matrix** and **precision-recall**."
   ]
  },
  {
   "cell_type": "markdown",
   "metadata": {},
   "source": [
    "#### 4.1 Confusion Matrix"
   ]
  },
  {
   "cell_type": "markdown",
   "metadata": {},
   "source": [
    "Below is an example of a confusion matrix."
   ]
  },
  {
   "cell_type": "markdown",
   "metadata": {},
   "source": [
    "![Confusion Matrix](http://rasbt.github.io/mlxtend/user_guide/evaluate/confusion_matrix_files/confusion_matrix_1.png)"
   ]
  },
  {
   "cell_type": "markdown",
   "metadata": {},
   "source": [
    "**True Positives**: The model correctly classifies a fraud transaction as a fraud.\n",
    "\n",
    "**True Negatives**: This is the number of correctly classifications of the \"No\" (Valid) class.\n",
    "\n",
    "**False Negatives**: Valid transaction predicted as fraud. \n",
    "\n",
    "**False Positives**: Fraud transaction predicted as valid. \n",
    "\n",
    "\n"
   ]
  },
  {
   "cell_type": "markdown",
   "metadata": {},
   "source": [
    "We will also define a function to visualize our confusion matrices."
   ]
  },
  {
   "cell_type": "code",
   "execution_count": 12,
   "metadata": {},
   "outputs": [],
   "source": [
    "from sklearn.metrics import confusion_matrix\n",
    "\n",
    "import itertools\n",
    "\n",
    "# Create a confusion matrix\n",
    "def plot_confusion_matrix(cm, classes,\n",
    "                          normalize=False,\n",
    "                          title='Confusion matrix',\n",
    "                          cmap=plt.cm.Blues):\n",
    "    \"\"\"\n",
    "    This function prints and plots the confusion matrix.\n",
    "    Normalization can be applied by setting `normalize=True`.\n",
    "    \"\"\"\n",
    "    if normalize:\n",
    "        cm = cm.astype('float') / cm.sum(axis=1)[:, np.newaxis]\n",
    "        print(\"Normalized confusion matrix\")\n",
    "    else:\n",
    "        print('Confusion matrix, without normalization')\n",
    "\n",
    "    print(cm)\n",
    "\n",
    "    plt.imshow(cm, interpolation='nearest', cmap=cmap)\n",
    "    plt.title(title, fontsize=14)\n",
    "    plt.colorbar()\n",
    "    tick_marks = np.arange(len(classes))\n",
    "    plt.xticks(tick_marks, classes, rotation=45)\n",
    "    plt.yticks(tick_marks, classes)\n",
    "\n",
    "    fmt = '.2f' if normalize else 'd'\n",
    "    thresh = cm.max() / 2.\n",
    "    for i, j in itertools.product(range(cm.shape[0]), range(cm.shape[1])):\n",
    "        plt.text(j, i, format(cm[i, j], fmt),\n",
    "                 horizontalalignment=\"center\",\n",
    "                 color=\"white\" if cm[i, j] > thresh else \"black\")\n",
    "\n",
    "    plt.tight_layout()\n",
    "    plt.ylabel('True label')\n",
    "    plt.xlabel('Predicted label')"
   ]
  },
  {
   "cell_type": "markdown",
   "metadata": {},
   "source": [
    "#### 4.2 Area Under Precision-Recall Curve"
   ]
  },
  {
   "cell_type": "code",
   "execution_count": 13,
   "metadata": {},
   "outputs": [],
   "source": [
    "from sklearn.metrics import precision_recall_curve\n",
    "from sklearn.metrics import f1_score\n",
    "from sklearn.metrics import auc\n",
    "from sklearn.metrics import average_precision_score"
   ]
  },
  {
   "cell_type": "markdown",
   "metadata": {},
   "source": [
    "Precision-Recall is a useful measure of success of prediction when the classes are very imbalanced. In information retrieval, precision is a measure of result relevancy, while recall is a measure of how many truly relevant results are returned.\n",
    "\n",
    "The precision-recall curve shows the tradeoff between precision and recall for different threshold. A high area under the curve represents both high recall and high precision, where high precision relates to a low false positive rate, and high recall relates to a low false negative rate. High scores for both show that the classifier is returning accurate results (high precision), as well as returning a majority of all positive results (high recall).\n",
    "\n",
    "A system with high recall but low precision returns many results, but most of its predicted labels are incorrect when compared to the training labels. A system with high precision but low recall is just the opposite, returning very few results, but most of its predicted labels are correct when compared to the training labels. An ideal system with high precision and high recall will return many results, with all results labeled correctly. [(Documentation)](https://scikit-learn.org/stable/auto_examples/model_selection/plot_precision_recall.html)"
   ]
  },
  {
   "cell_type": "markdown",
   "metadata": {},
   "source": [
    "### 5. Neural Network "
   ]
  },
  {
   "cell_type": "markdown",
   "metadata": {},
   "source": [
    "We will be building a simple model composed of one input layer (where the number of nodes equals the number of features) plus bias node, one hidden layer with 32 nodes and one output node composed of two possible results 0 or 1 (Valid or fraud)."
   ]
  },
  {
   "cell_type": "code",
   "execution_count": 14,
   "metadata": {},
   "outputs": [
    {
     "name": "stderr",
     "output_type": "stream",
     "text": [
      "Using TensorFlow backend.\n"
     ]
    }
   ],
   "source": [
    "import keras\n",
    "from keras import backend as K\n",
    "from keras.models import Sequential\n",
    "from keras.layers import Activation\n",
    "from keras.layers.core import Dense\n",
    "from keras.optimizers import Adam\n",
    "from keras.metrics import categorical_crossentropy\n",
    "import warnings"
   ]
  },
  {
   "cell_type": "code",
   "execution_count": 15,
   "metadata": {},
   "outputs": [],
   "source": [
    "n_inputs = X_train.shape[1]"
   ]
  },
  {
   "cell_type": "code",
   "execution_count": 16,
   "metadata": {},
   "outputs": [
    {
     "name": "stderr",
     "output_type": "stream",
     "text": [
      "WARNING: Logging before flag parsing goes to stderr.\n",
      "W0716 18:37:43.944529  2536 deprecation_wrapper.py:119] From C:\\ProgramData\\Anaconda3\\lib\\site-packages\\keras\\backend\\tensorflow_backend.py:74: The name tf.get_default_graph is deprecated. Please use tf.compat.v1.get_default_graph instead.\n",
      "\n",
      "W0716 18:37:43.958487  2536 deprecation_wrapper.py:119] From C:\\ProgramData\\Anaconda3\\lib\\site-packages\\keras\\backend\\tensorflow_backend.py:517: The name tf.placeholder is deprecated. Please use tf.compat.v1.placeholder instead.\n",
      "\n",
      "W0716 18:37:43.960444  2536 deprecation_wrapper.py:119] From C:\\ProgramData\\Anaconda3\\lib\\site-packages\\keras\\backend\\tensorflow_backend.py:4138: The name tf.random_uniform is deprecated. Please use tf.random.uniform instead.\n",
      "\n",
      "W0716 18:37:44.015333  2536 deprecation_wrapper.py:119] From C:\\ProgramData\\Anaconda3\\lib\\site-packages\\keras\\optimizers.py:790: The name tf.train.Optimizer is deprecated. Please use tf.compat.v1.train.Optimizer instead.\n",
      "\n",
      "W0716 18:37:44.020322  2536 deprecation_wrapper.py:119] From C:\\ProgramData\\Anaconda3\\lib\\site-packages\\keras\\backend\\tensorflow_backend.py:3341: The name tf.log is deprecated. Please use tf.math.log instead.\n",
      "\n",
      "W0716 18:37:44.084114  2536 deprecation.py:323] From C:\\ProgramData\\Anaconda3\\lib\\site-packages\\tensorflow\\python\\ops\\math_grad.py:1250: add_dispatch_support.<locals>.wrapper (from tensorflow.python.ops.array_ops) is deprecated and will be removed in a future version.\n",
      "Instructions for updating:\n",
      "Use tf.where in 2.0, which has the same broadcast rule as np.where\n",
      "W0716 18:37:44.108084  2536 deprecation_wrapper.py:119] From C:\\ProgramData\\Anaconda3\\lib\\site-packages\\keras\\backend\\tensorflow_backend.py:986: The name tf.assign_add is deprecated. Please use tf.compat.v1.assign_add instead.\n",
      "\n"
     ]
    },
    {
     "name": "stdout",
     "output_type": "stream",
     "text": [
      "_________________________________________________________________\n",
      "Layer (type)                 Output Shape              Param #   \n",
      "=================================================================\n",
      "dense_1 (Dense)              (None, 29)                870       \n",
      "_________________________________________________________________\n",
      "dense_2 (Dense)              (None, 32)                960       \n",
      "_________________________________________________________________\n",
      "dense_3 (Dense)              (None, 2)                 66        \n",
      "=================================================================\n",
      "Total params: 1,896\n",
      "Trainable params: 1,896\n",
      "Non-trainable params: 0\n",
      "_________________________________________________________________\n",
      "Train on 159491 samples, validate on 39873 samples\n",
      "Epoch 1/50\n",
      "159491/159491 [==============================] - 1s 5us/step - loss: 0.0422 - acc: 0.9933 - val_loss: 0.0042 - val_acc: 0.9991\n",
      "Epoch 2/50\n",
      "159491/159491 [==============================] - 1s 4us/step - loss: 0.0041 - acc: 0.9992 - val_loss: 0.0025 - val_acc: 0.9995\n",
      "Epoch 3/50\n",
      "159491/159491 [==============================] - 1s 4us/step - loss: 0.0033 - acc: 0.9993 - val_loss: 0.0021 - val_acc: 0.9995\n",
      "Epoch 4/50\n",
      "159491/159491 [==============================] - 1s 4us/step - loss: 0.0030 - acc: 0.9994 - val_loss: 0.0020 - val_acc: 0.9995\n",
      "Epoch 5/50\n",
      "159491/159491 [==============================] - 1s 4us/step - loss: 0.0027 - acc: 0.9994 - val_loss: 0.0022 - val_acc: 0.9995\n",
      "Epoch 6/50\n",
      "159491/159491 [==============================] - 1s 4us/step - loss: 0.0027 - acc: 0.9994 - val_loss: 0.0018 - val_acc: 0.9996\n",
      "Epoch 7/50\n",
      "159491/159491 [==============================] - 1s 4us/step - loss: 0.0025 - acc: 0.9994 - val_loss: 0.0019 - val_acc: 0.9995\n",
      "Epoch 8/50\n",
      "159491/159491 [==============================] - 1s 4us/step - loss: 0.0023 - acc: 0.9994 - val_loss: 0.0020 - val_acc: 0.9995\n",
      "Epoch 9/50\n",
      "159491/159491 [==============================] - 1s 4us/step - loss: 0.0023 - acc: 0.9994 - val_loss: 0.0019 - val_acc: 0.9996\n",
      "Epoch 10/50\n",
      "159491/159491 [==============================] - 1s 4us/step - loss: 0.0021 - acc: 0.9995 - val_loss: 0.0022 - val_acc: 0.9995\n",
      "Epoch 11/50\n",
      "159491/159491 [==============================] - 1s 4us/step - loss: 0.0021 - acc: 0.9995 - val_loss: 0.0017 - val_acc: 0.9997\n",
      "Epoch 12/50\n",
      "159491/159491 [==============================] - 1s 4us/step - loss: 0.0020 - acc: 0.9995 - val_loss: 0.0019 - val_acc: 0.9996\n",
      "Epoch 13/50\n",
      "159491/159491 [==============================] - 1s 4us/step - loss: 0.0019 - acc: 0.9995 - val_loss: 0.0019 - val_acc: 0.9995\n",
      "Epoch 14/50\n",
      "159491/159491 [==============================] - 1s 4us/step - loss: 0.0019 - acc: 0.9995 - val_loss: 0.0019 - val_acc: 0.9997\n",
      "Epoch 15/50\n",
      "159491/159491 [==============================] - 1s 4us/step - loss: 0.0018 - acc: 0.9995 - val_loss: 0.0018 - val_acc: 0.9996\n",
      "Epoch 16/50\n",
      "159491/159491 [==============================] - 1s 4us/step - loss: 0.0017 - acc: 0.9995 - val_loss: 0.0019 - val_acc: 0.9997\n",
      "Epoch 17/50\n",
      "159491/159491 [==============================] - 1s 4us/step - loss: 0.0016 - acc: 0.9996 - val_loss: 0.0019 - val_acc: 0.9996\n",
      "Epoch 18/50\n",
      "159491/159491 [==============================] - 1s 4us/step - loss: 0.0016 - acc: 0.9995 - val_loss: 0.0019 - val_acc: 0.9996\n",
      "Epoch 19/50\n",
      "159491/159491 [==============================] - 1s 4us/step - loss: 0.0016 - acc: 0.9996 - val_loss: 0.0020 - val_acc: 0.9996\n",
      "Epoch 20/50\n",
      "159491/159491 [==============================] - 1s 4us/step - loss: 0.0015 - acc: 0.9996 - val_loss: 0.0022 - val_acc: 0.9995\n",
      "Epoch 21/50\n",
      "159491/159491 [==============================] - 1s 4us/step - loss: 0.0014 - acc: 0.9996 - val_loss: 0.0023 - val_acc: 0.9995\n",
      "Epoch 22/50\n",
      "159491/159491 [==============================] - 1s 4us/step - loss: 0.0014 - acc: 0.9997 - val_loss: 0.0022 - val_acc: 0.9996\n",
      "Epoch 23/50\n",
      "159491/159491 [==============================] - 1s 4us/step - loss: 0.0013 - acc: 0.9997 - val_loss: 0.0025 - val_acc: 0.9995\n",
      "Epoch 24/50\n",
      "159491/159491 [==============================] - 1s 4us/step - loss: 0.0012 - acc: 0.9997 - val_loss: 0.0024 - val_acc: 0.9996\n",
      "Epoch 25/50\n",
      "159491/159491 [==============================] - 1s 4us/step - loss: 0.0013 - acc: 0.9997 - val_loss: 0.0023 - val_acc: 0.9996\n",
      "Epoch 26/50\n",
      "159491/159491 [==============================] - 1s 4us/step - loss: 0.0011 - acc: 0.9997 - val_loss: 0.0027 - val_acc: 0.9995\n",
      "Epoch 27/50\n",
      "159491/159491 [==============================] - 1s 4us/step - loss: 0.0012 - acc: 0.9997 - val_loss: 0.0023 - val_acc: 0.9996\n",
      "Epoch 28/50\n",
      "159491/159491 [==============================] - 1s 4us/step - loss: 0.0012 - acc: 0.9997 - val_loss: 0.0028 - val_acc: 0.9994\n",
      "Epoch 29/50\n",
      "159491/159491 [==============================] - 1s 4us/step - loss: 0.0011 - acc: 0.9997 - val_loss: 0.0026 - val_acc: 0.9995\n",
      "Epoch 30/50\n",
      "159491/159491 [==============================] - 1s 4us/step - loss: 0.0011 - acc: 0.9998 - val_loss: 0.0024 - val_acc: 0.9996\n",
      "Epoch 31/50\n",
      "159491/159491 [==============================] - 1s 4us/step - loss: 9.6167e-04 - acc: 0.9997 - val_loss: 0.0027 - val_acc: 0.9995\n",
      "Epoch 32/50\n",
      "159491/159491 [==============================] - 1s 4us/step - loss: 8.3143e-04 - acc: 0.9998 - val_loss: 0.0025 - val_acc: 0.9995\n",
      "Epoch 33/50\n",
      "159491/159491 [==============================] - 1s 4us/step - loss: 9.1315e-04 - acc: 0.9997 - val_loss: 0.0027 - val_acc: 0.9995\n",
      "Epoch 34/50\n",
      "159491/159491 [==============================] - 1s 4us/step - loss: 9.0368e-04 - acc: 0.9998 - val_loss: 0.0026 - val_acc: 0.9995\n",
      "Epoch 35/50\n",
      "159491/159491 [==============================] - 1s 4us/step - loss: 7.1607e-04 - acc: 0.9998 - val_loss: 0.0026 - val_acc: 0.9995\n",
      "Epoch 36/50\n",
      "159491/159491 [==============================] - 1s 4us/step - loss: 7.8964e-04 - acc: 0.9998 - val_loss: 0.0026 - val_acc: 0.9996\n",
      "Epoch 37/50\n",
      "159491/159491 [==============================] - 1s 4us/step - loss: 7.3242e-04 - acc: 0.9998 - val_loss: 0.0025 - val_acc: 0.9996\n",
      "Epoch 38/50\n",
      "159491/159491 [==============================] - 1s 4us/step - loss: 7.4454e-04 - acc: 0.9998 - val_loss: 0.0027 - val_acc: 0.9996\n",
      "Epoch 39/50\n",
      "159491/159491 [==============================] - 1s 4us/step - loss: 0.0010 - acc: 0.9997 - val_loss: 0.0027 - val_acc: 0.9995\n",
      "Epoch 40/50\n",
      "159491/159491 [==============================] - 1s 4us/step - loss: 6.5871e-04 - acc: 0.9998 - val_loss: 0.0026 - val_acc: 0.9996\n",
      "Epoch 41/50\n",
      "159491/159491 [==============================] - 1s 4us/step - loss: 5.9367e-04 - acc: 0.9998 - val_loss: 0.0026 - val_acc: 0.9996\n",
      "Epoch 42/50\n",
      "159491/159491 [==============================] - 1s 4us/step - loss: 5.3342e-04 - acc: 0.9999 - val_loss: 0.0026 - val_acc: 0.9995\n",
      "Epoch 43/50\n",
      "159491/159491 [==============================] - 1s 4us/step - loss: 5.8500e-04 - acc: 0.9999 - val_loss: 0.0028 - val_acc: 0.9995\n",
      "Epoch 44/50\n",
      "159491/159491 [==============================] - 1s 4us/step - loss: 5.4668e-04 - acc: 0.9998 - val_loss: 0.0027 - val_acc: 0.9996\n",
      "Epoch 45/50\n",
      "159491/159491 [==============================] - 1s 4us/step - loss: 5.8523e-04 - acc: 0.9999 - val_loss: 0.0028 - val_acc: 0.9995\n",
      "Epoch 46/50\n",
      "159491/159491 [==============================] - 1s 4us/step - loss: 4.1829e-04 - acc: 0.9999 - val_loss: 0.0029 - val_acc: 0.9996\n",
      "Epoch 47/50\n",
      "159491/159491 [==============================] - 1s 4us/step - loss: 8.7498e-04 - acc: 0.9998 - val_loss: 0.0035 - val_acc: 0.9993\n",
      "Epoch 48/50\n",
      "159491/159491 [==============================] - 1s 4us/step - loss: 7.8562e-04 - acc: 0.9999 - val_loss: 0.0029 - val_acc: 0.9996\n",
      "Epoch 49/50\n",
      "159491/159491 [==============================] - 1s 4us/step - loss: 5.6111e-04 - acc: 0.9999 - val_loss: 0.0028 - val_acc: 0.9996\n",
      "Epoch 50/50\n",
      "159491/159491 [==============================] - 1s 4us/step - loss: 5.6392e-04 - acc: 0.9999 - val_loss: 0.0030 - val_acc: 0.9994\n"
     ]
    }
   ],
   "source": [
    "warnings.filterwarnings('ignore')\n",
    "\n",
    "model = Sequential([\n",
    "    Dense(n_inputs, input_shape=(n_inputs, ), activation='relu'),\n",
    "    Dense(32, activation='relu'),\n",
    "    Dense(2, activation='softmax')\n",
    "])\n",
    "\n",
    "model.summary();\n",
    "\n",
    "model.compile(Adam(lr=0.001), loss='sparse_categorical_crossentropy', metrics=['accuracy']);\n",
    "\n",
    "model.fit(X_train, y_train, validation_split=0.2, batch_size=300, epochs=50, shuffle=True);\n"
   ]
  },
  {
   "cell_type": "code",
   "execution_count": 17,
   "metadata": {},
   "outputs": [],
   "source": [
    "predictions = model.predict(X_test, batch_size=200, verbose=0)\n",
    "\n",
    "fraud_predictions = model.predict_classes(X_test, batch_size=200)"
   ]
  },
  {
   "cell_type": "code",
   "execution_count": 18,
   "metadata": {},
   "outputs": [],
   "source": [
    "model_confusion = confusion_matrix(y_test, fraud_predictions)\n",
    "actual_cm = confusion_matrix(y_test, y_test.round())"
   ]
  },
  {
   "cell_type": "code",
   "execution_count": 19,
   "metadata": {},
   "outputs": [
    {
     "name": "stdout",
     "output_type": "stream",
     "text": [
      "Confusion matrix, without normalization\n",
      "[[85246    35]\n",
      " [   37   125]]\n",
      "Confusion matrix, without normalization\n",
      "[[85281     0]\n",
      " [    0   162]]\n"
     ]
    },
    {
     "data": {
      "image/png": "[encoded data removed]",
      "text/plain": [
       "<Figure size 1152x576 with 4 Axes>"
      ]
     },
     "metadata": {
      "needs_background": "light"
     },
     "output_type": "display_data"
    }
   ],
   "source": [
    "fig = plt.figure(figsize=(16,8))\n",
    "labels = ['Valid', 'Fraud']\n",
    "fig.add_subplot(221)\n",
    "plot_confusion_matrix(model_confusion, labels, title=\"Model \\n Confusion Matrix\", cmap=plt.cm.Blues);\n",
    "\n",
    "fig.add_subplot(222)\n",
    "plot_confusion_matrix(actual_cm, labels, title=\"Confusion Matrix \\n (with 100% accuracy)\", cmap=plt.cm.Greens);"
   ]
  },
  {
   "cell_type": "code",
   "execution_count": 20,
   "metadata": {},
   "outputs": [],
   "source": [
    "probs = model.predict_proba(X_test)\n",
    "# keep probabilities for the positive outcome only\n",
    "probs = probs[:, 1]\n",
    "\n",
    "# calculate precision-recall curve\n",
    "precision, recall, thresholds = precision_recall_curve(y_test, probs)\n",
    "\n",
    "score = average_precision_score(y_test, fraud_predictions) "
   ]
  },
  {
   "cell_type": "code",
   "execution_count": 21,
   "metadata": {},
   "outputs": [
    {
     "data": {
      "image/png": "[encoded data removed]",
      "text/plain": [
       "<Figure size 432x288 with 1 Axes>"
      ]
     },
     "metadata": {
      "needs_background": "light"
     },
     "output_type": "display_data"
    }
   ],
   "source": [
    "plt.step(recall, precision, color='r', alpha=0.05,\n",
    "         where='post');\n",
    "plt.fill_between(recall, precision, step='post', alpha=0.2,\n",
    "                 color='#F59B00');\n",
    "\n",
    "plt.xlabel('Recall');\n",
    "plt.ylabel('Precision');\n",
    "plt.ylim([0.0, 1.05]);\n",
    "plt.xlim([0.0, 1.0]);\n",
    "plt.title('Precision-Recall curve: \\n Average Precision-Recall Score ={0:0.2f}'.format(score), fontsize=16);"
   ]
  },
  {
   "cell_type": "markdown",
   "metadata": {},
   "source": [
    "### Synthetic Minority Oversampling Technique (SMOTE)"
   ]
  },
  {
   "cell_type": "markdown",
   "metadata": {},
   "source": [
    "As stated earlier, the dataset is highly unbalanced. A method that could improve our model is **oversampling.**\n",
    "\n",
    "We will be using Synthetic Minority Oversampling Technique or *SMOTE* for this dataset.\n",
    "\n",
    "The way *SMOTE* works:\n",
    "- It finds the n-nearest neighbors in the minority class for each of the samples in the class.\n",
    "- It draws a line between the the neighbors\n",
    "- It generates random synthetic points on the lines."
   ]
  },
  {
   "cell_type": "code",
   "execution_count": 22,
   "metadata": {
    "collapsed": true
   },
   "outputs": [],
   "source": [
    "from imblearn.over_sampling import SMOTE\n",
    "\n",
    "smote = SMOTE()\n",
    "\n",
    "X_resample, y_resample = SMOTE().fit_sample(X,y.values.ravel())\n",
    "\n",
    "Xsmote_train, Xsmote_test, ysmote_train, ysmote_test = train_test_split(X_resample,y_resample,test_size=0.3)"
   ]
  },
  {
   "cell_type": "code",
   "execution_count": 23,
   "metadata": {},
   "outputs": [],
   "source": [
    "#Deep Neural Network + SMOTE"
   ]
  },
  {
   "cell_type": "code",
   "execution_count": 24,
   "metadata": {},
   "outputs": [
    {
     "name": "stdout",
     "output_type": "stream",
     "text": [
      "_________________________________________________________________\n",
      "Layer (type)                 Output Shape              Param #   \n",
      "=================================================================\n",
      "dense_4 (Dense)              (None, 29)                870       \n",
      "_________________________________________________________________\n",
      "dense_5 (Dense)              (None, 32)                960       \n",
      "_________________________________________________________________\n",
      "dense_6 (Dense)              (None, 2)                 66        \n",
      "=================================================================\n",
      "Total params: 1,896\n",
      "Trainable params: 1,896\n",
      "Non-trainable params: 0\n",
      "_________________________________________________________________\n"
     ]
    }
   ],
   "source": [
    "oversample_model = Sequential([\n",
    "    Dense(n_inputs, input_shape=(n_inputs, ), activation='relu'),\n",
    "    Dense(32, activation='relu'),\n",
    "    Dense(2, activation='softmax')\n",
    "])\n",
    "\n",
    "oversample_model.summary()"
   ]
  },
  {
   "cell_type": "code",
   "execution_count": 25,
   "metadata": {},
   "outputs": [],
   "source": [
    "oversample_model.compile(Adam(lr=0.001), loss='sparse_categorical_crossentropy', metrics=['accuracy'])"
   ]
  },
  {
   "cell_type": "code",
   "execution_count": 26,
   "metadata": {},
   "outputs": [
    {
     "name": "stdout",
     "output_type": "stream",
     "text": [
      "Train on 318432 samples, validate on 79609 samples\n",
      "Epoch 1/50\n",
      "318432/318432 [==============================] - 1s 4us/step - loss: 0.0893 - acc: 0.9630 - val_loss: 0.0344 - val_acc: 0.9896\n",
      "Epoch 2/50\n",
      "318432/318432 [==============================] - 1s 4us/step - loss: 0.0238 - acc: 0.9930 - val_loss: 0.0174 - val_acc: 0.9953\n",
      "Epoch 3/50\n",
      "318432/318432 [==============================] - 1s 4us/step - loss: 0.0140 - acc: 0.9965 - val_loss: 0.0120 - val_acc: 0.9974\n",
      "Epoch 4/50\n",
      "318432/318432 [==============================] - 1s 4us/step - loss: 0.0097 - acc: 0.9978 - val_loss: 0.0089 - val_acc: 0.9982\n",
      "Epoch 5/50\n",
      "318432/318432 [==============================] - 1s 4us/step - loss: 0.0075 - acc: 0.9984 - val_loss: 0.0074 - val_acc: 0.9987\n",
      "Epoch 6/50\n",
      "318432/318432 [==============================] - 1s 4us/step - loss: 0.0062 - acc: 0.9986 - val_loss: 0.0071 - val_acc: 0.9988\n",
      "Epoch 7/50\n",
      "318432/318432 [==============================] - 1s 4us/step - loss: 0.0050 - acc: 0.9989 - val_loss: 0.0072 - val_acc: 0.9985\n",
      "Epoch 8/50\n",
      "318432/318432 [==============================] - 1s 4us/step - loss: 0.0043 - acc: 0.9991 - val_loss: 0.0051 - val_acc: 0.9992\n",
      "Epoch 9/50\n",
      "318432/318432 [==============================] - 1s 4us/step - loss: 0.0038 - acc: 0.9992 - val_loss: 0.0045 - val_acc: 0.9990\n",
      "Epoch 10/50\n",
      "318432/318432 [==============================] - 1s 4us/step - loss: 0.0033 - acc: 0.9993 - val_loss: 0.0052 - val_acc: 0.9992\n",
      "Epoch 11/50\n",
      "318432/318432 [==============================] - 1s 4us/step - loss: 0.0034 - acc: 0.9993 - val_loss: 0.0060 - val_acc: 0.9991\n",
      "Epoch 12/50\n",
      "318432/318432 [==============================] - 1s 4us/step - loss: 0.0029 - acc: 0.9994 - val_loss: 0.0039 - val_acc: 0.9992\n",
      "Epoch 13/50\n",
      "318432/318432 [==============================] - 1s 4us/step - loss: 0.0024 - acc: 0.9995 - val_loss: 0.0046 - val_acc: 0.9992\n",
      "Epoch 14/50\n",
      "318432/318432 [==============================] - 1s 4us/step - loss: 0.0025 - acc: 0.9995 - val_loss: 0.0036 - val_acc: 0.9993\n",
      "Epoch 15/50\n",
      "318432/318432 [==============================] - 1s 4us/step - loss: 0.0023 - acc: 0.9995 - val_loss: 0.0038 - val_acc: 0.9994\n",
      "Epoch 16/50\n",
      "318432/318432 [==============================] - 1s 4us/step - loss: 0.0020 - acc: 0.9996 - val_loss: 0.0037 - val_acc: 0.9992\n",
      "Epoch 17/50\n",
      "318432/318432 [==============================] - 1s 4us/step - loss: 0.0020 - acc: 0.9996 - val_loss: 0.0030 - val_acc: 0.9994\n",
      "Epoch 18/50\n",
      "318432/318432 [==============================] - 1s 4us/step - loss: 0.0019 - acc: 0.9996 - val_loss: 0.0028 - val_acc: 0.9995\n",
      "Epoch 19/50\n",
      "318432/318432 [==============================] - 1s 4us/step - loss: 0.0019 - acc: 0.9996 - val_loss: 0.0036 - val_acc: 0.9993\n",
      "Epoch 20/50\n",
      "318432/318432 [==============================] - 1s 4us/step - loss: 0.0020 - acc: 0.9996 - val_loss: 0.0042 - val_acc: 0.9993\n",
      "Epoch 21/50\n",
      "318432/318432 [==============================] - 1s 4us/step - loss: 0.0016 - acc: 0.9997 - val_loss: 0.0028 - val_acc: 0.9994\n",
      "Epoch 22/50\n",
      "318432/318432 [==============================] - 1s 4us/step - loss: 0.0017 - acc: 0.9996 - val_loss: 0.0043 - val_acc: 0.9992\n",
      "Epoch 23/50\n",
      "318432/318432 [==============================] - 1s 4us/step - loss: 0.0016 - acc: 0.9997 - val_loss: 0.0026 - val_acc: 0.9996\n",
      "Epoch 24/50\n",
      "318432/318432 [==============================] - 1s 4us/step - loss: 0.0014 - acc: 0.9997 - val_loss: 0.0026 - val_acc: 0.9995\n",
      "Epoch 25/50\n",
      "318432/318432 [==============================] - 1s 4us/step - loss: 0.0016 - acc: 0.9996 - val_loss: 0.0028 - val_acc: 0.9994\n",
      "Epoch 26/50\n",
      "318432/318432 [==============================] - 1s 4us/step - loss: 0.0016 - acc: 0.9997 - val_loss: 0.0037 - val_acc: 0.9992\n",
      "Epoch 27/50\n",
      "318432/318432 [==============================] - 1s 4us/step - loss: 0.0013 - acc: 0.9997 - val_loss: 0.0029 - val_acc: 0.9995\n",
      "Epoch 28/50\n",
      "318432/318432 [==============================] - 1s 4us/step - loss: 0.0013 - acc: 0.9997 - val_loss: 0.0027 - val_acc: 0.9995\n",
      "Epoch 29/50\n",
      "318432/318432 [==============================] - 1s 4us/step - loss: 0.0013 - acc: 0.9997 - val_loss: 0.0034 - val_acc: 0.9994\n",
      "Epoch 30/50\n",
      "318432/318432 [==============================] - 1s 4us/step - loss: 0.0014 - acc: 0.9997 - val_loss: 0.0032 - val_acc: 0.9995\n",
      "Epoch 31/50\n",
      "318432/318432 [==============================] - 1s 4us/step - loss: 0.0012 - acc: 0.9998 - val_loss: 0.0021 - val_acc: 0.9996\n",
      "Epoch 32/50\n",
      "318432/318432 [==============================] - 1s 4us/step - loss: 0.0010 - acc: 0.9998 - val_loss: 0.0023 - val_acc: 0.9996\n",
      "Epoch 33/50\n",
      "318432/318432 [==============================] - 1s 4us/step - loss: 0.0014 - acc: 0.9997 - val_loss: 0.0049 - val_acc: 0.9993\n",
      "Epoch 34/50\n",
      "318432/318432 [==============================] - 1s 4us/step - loss: 0.0013 - acc: 0.9997 - val_loss: 0.0022 - val_acc: 0.9996\n",
      "Epoch 35/50\n",
      "318432/318432 [==============================] - 1s 4us/step - loss: 8.8353e-04 - acc: 0.9998 - val_loss: 0.0026 - val_acc: 0.9996\n",
      "Epoch 36/50\n",
      "318432/318432 [==============================] - 1s 4us/step - loss: 0.0014 - acc: 0.9997 - val_loss: 0.0025 - val_acc: 0.9995\n",
      "Epoch 37/50\n",
      "318432/318432 [==============================] - 1s 4us/step - loss: 0.0012 - acc: 0.9998 - val_loss: 0.0025 - val_acc: 0.9996\n",
      "Epoch 38/50\n",
      "318432/318432 [==============================] - 1s 4us/step - loss: 0.0012 - acc: 0.9998 - val_loss: 0.0027 - val_acc: 0.9994\n",
      "Epoch 39/50\n",
      "318432/318432 [==============================] - 1s 4us/step - loss: 0.0012 - acc: 0.9998 - val_loss: 0.0024 - val_acc: 0.9996\n",
      "Epoch 40/50\n",
      "318432/318432 [==============================] - 1s 4us/step - loss: 8.0322e-04 - acc: 0.9999 - val_loss: 0.0024 - val_acc: 0.9996\n",
      "Epoch 41/50\n",
      "318432/318432 [==============================] - 1s 4us/step - loss: 0.0012 - acc: 0.9998 - val_loss: 0.0024 - val_acc: 0.9996\n",
      "Epoch 42/50\n",
      "318432/318432 [==============================] - 1s 4us/step - loss: 8.3682e-04 - acc: 0.9998 - val_loss: 0.0031 - val_acc: 0.9993\n",
      "Epoch 43/50\n",
      "318432/318432 [==============================] - 1s 4us/step - loss: 0.0018 - acc: 0.9996 - val_loss: 0.0025 - val_acc: 0.9996\n",
      "Epoch 44/50\n",
      "318432/318432 [==============================] - 1s 4us/step - loss: 8.8341e-04 - acc: 0.9998 - val_loss: 0.0027 - val_acc: 0.9995\n",
      "Epoch 45/50\n",
      "318432/318432 [==============================] - 1s 4us/step - loss: 9.7993e-04 - acc: 0.9998 - val_loss: 0.0030 - val_acc: 0.9995\n",
      "Epoch 46/50\n",
      "318432/318432 [==============================] - 1s 4us/step - loss: 0.0010 - acc: 0.9998 - val_loss: 0.0028 - val_acc: 0.9996\n",
      "Epoch 47/50\n",
      "318432/318432 [==============================] - 1s 4us/step - loss: 7.7981e-04 - acc: 0.9998 - val_loss: 0.0029 - val_acc: 0.9995\n",
      "Epoch 48/50\n",
      "318432/318432 [==============================] - 1s 4us/step - loss: 0.0014 - acc: 0.9997 - val_loss: 0.0029 - val_acc: 0.9995\n",
      "Epoch 49/50\n",
      "318432/318432 [==============================] - 1s 4us/step - loss: 7.4157e-04 - acc: 0.9998 - val_loss: 0.0028 - val_acc: 0.9996\n",
      "Epoch 50/50\n",
      "318432/318432 [==============================] - 1s 4us/step - loss: 7.7241e-04 - acc: 0.9999 - val_loss: 0.0022 - val_acc: 0.9997\n"
     ]
    },
    {
     "data": {
      "text/plain": [
       "<keras.callbacks.History at 0x209c02cba58>"
      ]
     },
     "execution_count": 26,
     "metadata": {},
     "output_type": "execute_result"
    }
   ],
   "source": [
    "oversample_model.fit(Xsmote_train, ysmote_train, validation_split=0.2, batch_size=300, epochs=50, shuffle=True)"
   ]
  },
  {
   "cell_type": "code",
   "execution_count": 27,
   "metadata": {},
   "outputs": [],
   "source": [
    "oversample_predictions = oversample_model.predict_classes(X_test, batch_size=200, verbose=0)"
   ]
  },
  {
   "cell_type": "code",
   "execution_count": 28,
   "metadata": {},
   "outputs": [],
   "source": [
    "oversample_confusion = confusion_matrix(y_test, oversample_predictions)\n",
    "actual_cm = confusion_matrix(y_test, y_test)"
   ]
  },
  {
   "cell_type": "code",
   "execution_count": 29,
   "metadata": {},
   "outputs": [
    {
     "name": "stdout",
     "output_type": "stream",
     "text": [
      "Confusion matrix, without normalization\n",
      "[[85246    35]\n",
      " [    0   162]]\n",
      "Confusion matrix, without normalization\n",
      "[[85281     0]\n",
      " [    0   162]]\n"
     ]
    },
    {
     "data": {
      "image/png": "[encoded data removed]",
      "text/plain": [
       "<Figure size 1152x576 with 4 Axes>"
      ]
     },
     "metadata": {
      "needs_background": "light"
     },
     "output_type": "display_data"
    }
   ],
   "source": [
    "fig = plt.figure(figsize=(16,8))\n",
    "labels = ['Valid', 'Fraud']\n",
    "\n",
    "fig.add_subplot(221)\n",
    "plot_confusion_matrix(oversample_confusion, labels, title=\"OverSample (SMOTE) \\n Confusion Matrix\", cmap=plt.cm.Oranges);\n",
    "\n",
    "fig.add_subplot(222)\n",
    "plot_confusion_matrix(actual_cm, labels, title=\"Confusion Matrix \\n (with 100% accuracy)\", cmap=plt.cm.Greens);"
   ]
  },
  {
   "cell_type": "code",
   "execution_count": 30,
   "metadata": {},
   "outputs": [
    {
     "data": {
      "image/png": "[encoded data removed]",
      "text/plain": [
       "<Figure size 432x288 with 1 Axes>"
      ]
     },
     "metadata": {
      "needs_background": "light"
     },
     "output_type": "display_data"
    }
   ],
   "source": [
    "oversample_score = average_precision_score(y_test, oversample_predictions) \n",
    "\n",
    "plt.step(recall, precision, color='r', alpha=0.05,\n",
    "         where='post');\n",
    "plt.fill_between(recall, precision, step='post', alpha=0.2,\n",
    "                 color='#F59B00');\n",
    "\n",
    "plt.xlabel('Recall');\n",
    "plt.ylabel('Precision');\n",
    "plt.ylim([0.0, 1.05]);\n",
    "plt.xlim([0.0, 1.0]);\n",
    "plt.title('OverSampling Precision-Recall curve: \\n Average Precision-Recall Score ={0:0.2f}'.format(oversample_score), fontsize=16);"
   ]
  },
  {
   "cell_type": "markdown",
   "metadata": {},
   "source": [
    "### Remarks"
   ]
  },
  {
   "cell_type": "markdown",
   "metadata": {},
   "source": [
    "After carrying out the project, several observations can be made.\n",
    "\n",
    "- Confusion matrix is important in understanding what is at stake if the model made an incorrect prediction. In this case, false negative could mean that customers might get their card blocked while performing a completely normal transaction. This could lead to dissatisfaction and potential churn. A false positive could mean that both the credit card provider and the customer are losing money due to a fraudulent transaction.\n",
    "\n",
    "- Imbalanced data is common in the real world. Techniques such as oversampling can be handy in improving the model.\n",
    "\n",
    "- For further exploration, different neural network configuration can be used to obtain better performance."
   ]
  }
 ],
 "metadata": {
  "kernelspec": {
   "display_name": "Python 3",
   "language": "python",
   "name": "python3"
  },
  "language_info": {
   "codemirror_mode": {
    "name": "ipython",
    "version": 3
   },
   "file_extension": ".py",
   "mimetype": "text/x-python",
   "name": "python",
   "nbconvert_exporter": "python",
   "pygments_lexer": "ipython3",
   "version": "3.7.3"
  }
 },
 "nbformat": 4,
 "nbformat_minor": 2
}

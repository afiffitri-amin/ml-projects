{
 "cells": [
  {
   "cell_type": "code",
   "execution_count": 1,
   "metadata": {},
   "outputs": [],
   "source": [
    "import tweepy\n",
    "import statistics\n",
    "from textblob import TextBlob\n",
    "import preprocessor as p\n",
    "from typing import List\n",
    "import pandas as pd"
   ]
  },
  {
   "cell_type": "code",
   "execution_count": 2,
   "metadata": {},
   "outputs": [],
   "source": [
    "consumer_key = open('consumer_key.txt', 'r').read()\n",
    "consumer_secret = open('consumer_secret.txt', 'r').read()\n",
    "\n",
    "auth = tweepy.AppAuthHandler(consumer_key, consumer_secret)\n",
    "api = tweepy.API(auth)"
   ]
  },
  {
   "cell_type": "code",
   "execution_count": 3,
   "metadata": {},
   "outputs": [],
   "source": [
    "def get_tweets(keyword: str) -> List[str]:\n",
    "    all_tweets = []\n",
    "    \n",
    "    for tweet in tweepy.Cursor(api.search,\n",
    "                               q=keyword,\n",
    "                               tweet_mode='extended',\n",
    "                              lang='en').items(1000):\n",
    "        \n",
    "        all_tweets.append(tweet.full_text)\n",
    "        \n",
    "    return all_tweets\n",
    "\n",
    "def clean_tweets(all_tweets: List[str]) -> List[str]:\n",
    "    \n",
    "    tweets_clean = []\n",
    "    \n",
    "    for tweet in all_tweets:\n",
    "        tweets_clean.append(p.clean(tweet))\n",
    "    \n",
    "    return tweets_clean\n",
    "\n",
    "def get_sentiment(all_tweets: List[str]) -> List[float]:\n",
    "    \n",
    "    sentiment_scores = []\n",
    "    \n",
    "    for tweet in all_tweets:\n",
    "        blob = TextBlob(tweet)\n",
    "        sentiment_scores.append(blob.sentiment.polarity)\n",
    "    \n",
    "    return sentiment_scores\n",
    "\n",
    "def generate_average_sentiment_score(keyword: str) -> int:\n",
    "    tweets = get_tweets(keyword)\n",
    "    tweets_clean = clean_tweets(tweets)\n",
    "    sentiment_scores = get_sentiment(tweets_clean)\n",
    "    average_score = statistics.mean(sentiment_scores)\n",
    "    \n",
    "    return average_score\n",
    "\n"
   ]
  },
  {
   "cell_type": "code",
   "execution_count": 4,
   "metadata": {},
   "outputs": [
    {
     "name": "stdout",
     "output_type": "stream",
     "text": [
      "First thing: \n"
     ]
    },
    {
     "name": "stdin",
     "output_type": "stream",
     "text": [
      " nikola\n"
     ]
    },
    {
     "name": "stdout",
     "output_type": "stream",
     "text": [
      "Second thing: \n"
     ]
    },
    {
     "name": "stdin",
     "output_type": "stream",
     "text": [
      " tesla\n"
     ]
    },
    {
     "name": "stdout",
     "output_type": "stream",
     "text": [
      "More positive tweets on tesla over nikola\n"
     ]
    }
   ],
   "source": [
    "print('First thing: ')\n",
    "first_thing = input()\n",
    "print('Second thing: ')\n",
    "second_thing = input()\n",
    "\n",
    "first_score = generate_average_sentiment_score(first_thing)\n",
    "second_score = generate_average_sentiment_score(second_thing)\n",
    "\n",
    "if (first_score > second_score):\n",
    "    \n",
    "    print(\"More positive tweets on {} over {}\".format(first_thing,second_thing))\n",
    "    \n",
    "else:\n",
    "    \n",
    "    print(\"More positive tweets on {} over {}\".format(second_thing, first_thing))"
   ]
  },
  {
   "cell_type": "code",
   "execution_count": null,
   "metadata": {},
   "outputs": [],
   "source": []
  }
 ],
 "metadata": {
  "kernelspec": {
   "display_name": "Python 3",
   "language": "python",
   "name": "python3"
  },
  "language_info": {
   "codemirror_mode": {
    "name": "ipython",
    "version": 3
   },
   "file_extension": ".py",
   "mimetype": "text/x-python",
   "name": "python",
   "nbconvert_exporter": "python",
   "pygments_lexer": "ipython3",
   "version": "3.8.5"
  }
 },
 "nbformat": 4,
 "nbformat_minor": 4
}
